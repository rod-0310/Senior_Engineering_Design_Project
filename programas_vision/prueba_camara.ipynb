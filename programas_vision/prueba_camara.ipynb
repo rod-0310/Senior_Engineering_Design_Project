{
 "cells": [
  {
   "cell_type": "code",
   "execution_count": 1,
   "id": "493ebe7a",
   "metadata": {},
   "outputs": [
    {
     "name": "stderr",
     "output_type": "stream",
     "text": [
      "[ WARN:0@1.111] global ./modules/videoio/src/cap_gstreamer.cpp (1405) open OpenCV | GStreamer warning: Cannot query video position: status=0, value=-1, duration=-1\n"
     ]
    }
   ],
   "source": [
    "import cv2\n",
    "\n",
    "# Iniciar la cámara (0 = cámara por defecto)\n",
    "cap = cv2.VideoCapture(2)\n",
    "\n",
    "if not cap.isOpened():\n",
    "    print(\"Error: No se pudo acceder a la cámara.\")\n",
    "    exit()\n",
    "\n",
    "while True:\n",
    "    ret, frame = cap.read()\n",
    "    if not ret:\n",
    "        print(\"Error: No se pudo leer el frame.\")\n",
    "        break\n",
    "\n",
    "    # Obtener dimensiones\n",
    "    height, width, _ = frame.shape\n",
    "\n",
    "    # Calcular divisiones (3x3)\n",
    "    third_width = width // 3\n",
    "    third_height = height // 3\n",
    "\n",
    "    # Dibujar líneas verticales\n",
    "    for i in range(1, 3):\n",
    "        x = i * third_width\n",
    "        cv2.line(frame, (x, 0), (x, height), (0, 255, 0), 2)\n",
    "\n",
    "    # Dibujar líneas horizontales\n",
    "    for i in range(1, 3):\n",
    "        y = i * third_height\n",
    "        cv2.line(frame, (0, y), (width, y), (0, 255, 0), 2)\n",
    "\n",
    "    # Mostrar imagen con la cuadrícula\n",
    "    cv2.imshow('Camara dividida en 9 partes', frame)\n",
    "\n",
    "    # Salir con la tecla ESC\n",
    "    if cv2.waitKey(1) & 0xFF == 27:\n",
    "        break\n",
    "\n",
    "# Liberar cámara y cerrar ventanas\n",
    "cap.release()\n",
    "cv2.destroyAllWindows()\n"
   ]
  }
 ],
 "metadata": {
  "kernelspec": {
   "display_name": "Python 3",
   "language": "python",
   "name": "python3"
  },
  "language_info": {
   "codemirror_mode": {
    "name": "ipython",
    "version": 3
   },
   "file_extension": ".py",
   "mimetype": "text/x-python",
   "name": "python",
   "nbconvert_exporter": "python",
   "pygments_lexer": "ipython3",
   "version": "3.12.3"
  }
 },
 "nbformat": 4,
 "nbformat_minor": 5
}
